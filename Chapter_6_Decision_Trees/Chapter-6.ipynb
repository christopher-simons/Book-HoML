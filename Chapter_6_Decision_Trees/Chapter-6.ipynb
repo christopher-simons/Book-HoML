{
  "cells": [
    {
      "metadata": {},
      "cell_type": "markdown",
      "source": "# Chapter 6 Decision Trees\n\nIn this chapter, starting on page 167 of \"Hands-On Machine Learning with Sciket-Learn & TensorFlow\", we'll look at how to train, visualise and make predictions with decision trees. \n\nFirslt, let's load the Iris data set via sklearn.datasets, and see the data and the labels. "
    },
    {
      "metadata": {
        "trusted": true
      },
      "cell_type": "code",
      "source": "# 1st May 2020 and subsequently...\n\nfrom sklearn.datasets import load_iris\n\niris = load_iris( )\n\nprint( iris[ \"data\" ] )\nprint( iris[ \"target\" ] )",
      "execution_count": 9,
      "outputs": [
        {
          "output_type": "stream",
          "text": "[[5.1 3.5 1.4 0.2]\n [4.9 3.  1.4 0.2]\n [4.7 3.2 1.3 0.2]\n [4.6 3.1 1.5 0.2]\n [5.  3.6 1.4 0.2]\n [5.4 3.9 1.7 0.4]\n [4.6 3.4 1.4 0.3]\n [5.  3.4 1.5 0.2]\n [4.4 2.9 1.4 0.2]\n [4.9 3.1 1.5 0.1]\n [5.4 3.7 1.5 0.2]\n [4.8 3.4 1.6 0.2]\n [4.8 3.  1.4 0.1]\n [4.3 3.  1.1 0.1]\n [5.8 4.  1.2 0.2]\n [5.7 4.4 1.5 0.4]\n [5.4 3.9 1.3 0.4]\n [5.1 3.5 1.4 0.3]\n [5.7 3.8 1.7 0.3]\n [5.1 3.8 1.5 0.3]\n [5.4 3.4 1.7 0.2]\n [5.1 3.7 1.5 0.4]\n [4.6 3.6 1.  0.2]\n [5.1 3.3 1.7 0.5]\n [4.8 3.4 1.9 0.2]\n [5.  3.  1.6 0.2]\n [5.  3.4 1.6 0.4]\n [5.2 3.5 1.5 0.2]\n [5.2 3.4 1.4 0.2]\n [4.7 3.2 1.6 0.2]\n [4.8 3.1 1.6 0.2]\n [5.4 3.4 1.5 0.4]\n [5.2 4.1 1.5 0.1]\n [5.5 4.2 1.4 0.2]\n [4.9 3.1 1.5 0.1]\n [5.  3.2 1.2 0.2]\n [5.5 3.5 1.3 0.2]\n [4.9 3.1 1.5 0.1]\n [4.4 3.  1.3 0.2]\n [5.1 3.4 1.5 0.2]\n [5.  3.5 1.3 0.3]\n [4.5 2.3 1.3 0.3]\n [4.4 3.2 1.3 0.2]\n [5.  3.5 1.6 0.6]\n [5.1 3.8 1.9 0.4]\n [4.8 3.  1.4 0.3]\n [5.1 3.8 1.6 0.2]\n [4.6 3.2 1.4 0.2]\n [5.3 3.7 1.5 0.2]\n [5.  3.3 1.4 0.2]\n [7.  3.2 4.7 1.4]\n [6.4 3.2 4.5 1.5]\n [6.9 3.1 4.9 1.5]\n [5.5 2.3 4.  1.3]\n [6.5 2.8 4.6 1.5]\n [5.7 2.8 4.5 1.3]\n [6.3 3.3 4.7 1.6]\n [4.9 2.4 3.3 1. ]\n [6.6 2.9 4.6 1.3]\n [5.2 2.7 3.9 1.4]\n [5.  2.  3.5 1. ]\n [5.9 3.  4.2 1.5]\n [6.  2.2 4.  1. ]\n [6.1 2.9 4.7 1.4]\n [5.6 2.9 3.6 1.3]\n [6.7 3.1 4.4 1.4]\n [5.6 3.  4.5 1.5]\n [5.8 2.7 4.1 1. ]\n [6.2 2.2 4.5 1.5]\n [5.6 2.5 3.9 1.1]\n [5.9 3.2 4.8 1.8]\n [6.1 2.8 4.  1.3]\n [6.3 2.5 4.9 1.5]\n [6.1 2.8 4.7 1.2]\n [6.4 2.9 4.3 1.3]\n [6.6 3.  4.4 1.4]\n [6.8 2.8 4.8 1.4]\n [6.7 3.  5.  1.7]\n [6.  2.9 4.5 1.5]\n [5.7 2.6 3.5 1. ]\n [5.5 2.4 3.8 1.1]\n [5.5 2.4 3.7 1. ]\n [5.8 2.7 3.9 1.2]\n [6.  2.7 5.1 1.6]\n [5.4 3.  4.5 1.5]\n [6.  3.4 4.5 1.6]\n [6.7 3.1 4.7 1.5]\n [6.3 2.3 4.4 1.3]\n [5.6 3.  4.1 1.3]\n [5.5 2.5 4.  1.3]\n [5.5 2.6 4.4 1.2]\n [6.1 3.  4.6 1.4]\n [5.8 2.6 4.  1.2]\n [5.  2.3 3.3 1. ]\n [5.6 2.7 4.2 1.3]\n [5.7 3.  4.2 1.2]\n [5.7 2.9 4.2 1.3]\n [6.2 2.9 4.3 1.3]\n [5.1 2.5 3.  1.1]\n [5.7 2.8 4.1 1.3]\n [6.3 3.3 6.  2.5]\n [5.8 2.7 5.1 1.9]\n [7.1 3.  5.9 2.1]\n [6.3 2.9 5.6 1.8]\n [6.5 3.  5.8 2.2]\n [7.6 3.  6.6 2.1]\n [4.9 2.5 4.5 1.7]\n [7.3 2.9 6.3 1.8]\n [6.7 2.5 5.8 1.8]\n [7.2 3.6 6.1 2.5]\n [6.5 3.2 5.1 2. ]\n [6.4 2.7 5.3 1.9]\n [6.8 3.  5.5 2.1]\n [5.7 2.5 5.  2. ]\n [5.8 2.8 5.1 2.4]\n [6.4 3.2 5.3 2.3]\n [6.5 3.  5.5 1.8]\n [7.7 3.8 6.7 2.2]\n [7.7 2.6 6.9 2.3]\n [6.  2.2 5.  1.5]\n [6.9 3.2 5.7 2.3]\n [5.6 2.8 4.9 2. ]\n [7.7 2.8 6.7 2. ]\n [6.3 2.7 4.9 1.8]\n [6.7 3.3 5.7 2.1]\n [7.2 3.2 6.  1.8]\n [6.2 2.8 4.8 1.8]\n [6.1 3.  4.9 1.8]\n [6.4 2.8 5.6 2.1]\n [7.2 3.  5.8 1.6]\n [7.4 2.8 6.1 1.9]\n [7.9 3.8 6.4 2. ]\n [6.4 2.8 5.6 2.2]\n [6.3 2.8 5.1 1.5]\n [6.1 2.6 5.6 1.4]\n [7.7 3.  6.1 2.3]\n [6.3 3.4 5.6 2.4]\n [6.4 3.1 5.5 1.8]\n [6.  3.  4.8 1.8]\n [6.9 3.1 5.4 2.1]\n [6.7 3.1 5.6 2.4]\n [6.9 3.1 5.1 2.3]\n [5.8 2.7 5.1 1.9]\n [6.8 3.2 5.9 2.3]\n [6.7 3.3 5.7 2.5]\n [6.7 3.  5.2 2.3]\n [6.3 2.5 5.  1.9]\n [6.5 3.  5.2 2. ]\n [6.2 3.4 5.4 2.3]\n [5.9 3.  5.1 1.8]]\n[0 0 0 0 0 0 0 0 0 0 0 0 0 0 0 0 0 0 0 0 0 0 0 0 0 0 0 0 0 0 0 0 0 0 0 0 0\n 0 0 0 0 0 0 0 0 0 0 0 0 0 1 1 1 1 1 1 1 1 1 1 1 1 1 1 1 1 1 1 1 1 1 1 1 1\n 1 1 1 1 1 1 1 1 1 1 1 1 1 1 1 1 1 1 1 1 1 1 1 1 1 1 2 2 2 2 2 2 2 2 2 2 2\n 2 2 2 2 2 2 2 2 2 2 2 2 2 2 2 2 2 2 2 2 2 2 2 2 2 2 2 2 2 2 2 2 2 2 2 2 2\n 2 2]\n",
          "name": "stdout"
        }
      ]
    },
    {
      "metadata": {},
      "cell_type": "raw",
      "source": "Get the petal length and petal width from the iris data set, and then produce a scatter plot for each of the three species of Iris. "
    },
    {
      "metadata": {
        "trusted": true
      },
      "cell_type": "code",
      "source": "import matplotlib.pyplot as plt\n\n# look at the data by species in a scatter plot\ni = 0\nj = len( iris[ \"data\" ] )\na, b, c, d, e, f = [ ], [ ], [ ], [ ], [ ], [ ]\n\nfor i in range( j ):\n    if( iris[ \"target\" ][ i ] == 0 ):\n        a.append( iris[ \"data\" ][ i, ( 2 ) ] ) # petal length\n        b.append( iris[ \"data\" ][ i, ( 3 ) ] ) # petal width\n    elif( iris[ \"target\" ][ i ] == 1 ):\n        c.append( iris[ \"data\" ][ i, ( 2 ) ] )\n        d.append( iris[ \"data\" ][ i, ( 3 ) ] )        \n    else:\n        e.append( iris[ \"data\" ][ i, ( 2 ) ] )\n        f.append( iris[ \"data\" ][ i, ( 3 ) ] )\n\nplt.scatter( a, b, color = \"blue\", label = \"Setosa\" ) # Iris Setosa\nplt.scatter( c, d, color = \"green\", label = \"Versicola\" ) # Iris Versicola\nplt.scatter( e, f, color = \"red\", label = \"Viginica\" ) # Iris Virginica\n\nplt.xlabel( \"Petal Length\" )\nplt.ylabel( \"Petal Width\" )\nplt.title( \"Fisher Iris Dataset\" )\nplt.legend( loc = 'upper left' )\nplt.grid( )\nplt.plot( )",
      "execution_count": 10,
      "outputs": [
        {
          "output_type": "execute_result",
          "execution_count": 10,
          "data": {
            "text/plain": "[]"
          },
          "metadata": {}
        },
        {
          "output_type": "display_data",
          "data": {
            "image/png": "[encoded data removed]",
            "text/plain": "<matplotlib.figure.Figure at 0x7f7c1f3d08d0>"
          },
          "metadata": {}
        }
      ]
    },
    {
      "metadata": {},
      "cell_type": "markdown",
      "source": "So let's go with the petal length and petal width, and copy the values in a new array for training. "
    },
    {
      "metadata": {
        "trusted": true
      },
      "cell_type": "code",
      "source": "x = iris.data[ :, 2: ] # petal length and width\nprint( x )\ny = iris.target\nprint( y )",
      "execution_count": 11,
      "outputs": [
        {
          "output_type": "stream",
          "text": "[[1.4 0.2]\n [1.4 0.2]\n [1.3 0.2]\n [1.5 0.2]\n [1.4 0.2]\n [1.7 0.4]\n [1.4 0.3]\n [1.5 0.2]\n [1.4 0.2]\n [1.5 0.1]\n [1.5 0.2]\n [1.6 0.2]\n [1.4 0.1]\n [1.1 0.1]\n [1.2 0.2]\n [1.5 0.4]\n [1.3 0.4]\n [1.4 0.3]\n [1.7 0.3]\n [1.5 0.3]\n [1.7 0.2]\n [1.5 0.4]\n [1.  0.2]\n [1.7 0.5]\n [1.9 0.2]\n [1.6 0.2]\n [1.6 0.4]\n [1.5 0.2]\n [1.4 0.2]\n [1.6 0.2]\n [1.6 0.2]\n [1.5 0.4]\n [1.5 0.1]\n [1.4 0.2]\n [1.5 0.1]\n [1.2 0.2]\n [1.3 0.2]\n [1.5 0.1]\n [1.3 0.2]\n [1.5 0.2]\n [1.3 0.3]\n [1.3 0.3]\n [1.3 0.2]\n [1.6 0.6]\n [1.9 0.4]\n [1.4 0.3]\n [1.6 0.2]\n [1.4 0.2]\n [1.5 0.2]\n [1.4 0.2]\n [4.7 1.4]\n [4.5 1.5]\n [4.9 1.5]\n [4.  1.3]\n [4.6 1.5]\n [4.5 1.3]\n [4.7 1.6]\n [3.3 1. ]\n [4.6 1.3]\n [3.9 1.4]\n [3.5 1. ]\n [4.2 1.5]\n [4.  1. ]\n [4.7 1.4]\n [3.6 1.3]\n [4.4 1.4]\n [4.5 1.5]\n [4.1 1. ]\n [4.5 1.5]\n [3.9 1.1]\n [4.8 1.8]\n [4.  1.3]\n [4.9 1.5]\n [4.7 1.2]\n [4.3 1.3]\n [4.4 1.4]\n [4.8 1.4]\n [5.  1.7]\n [4.5 1.5]\n [3.5 1. ]\n [3.8 1.1]\n [3.7 1. ]\n [3.9 1.2]\n [5.1 1.6]\n [4.5 1.5]\n [4.5 1.6]\n [4.7 1.5]\n [4.4 1.3]\n [4.1 1.3]\n [4.  1.3]\n [4.4 1.2]\n [4.6 1.4]\n [4.  1.2]\n [3.3 1. ]\n [4.2 1.3]\n [4.2 1.2]\n [4.2 1.3]\n [4.3 1.3]\n [3.  1.1]\n [4.1 1.3]\n [6.  2.5]\n [5.1 1.9]\n [5.9 2.1]\n [5.6 1.8]\n [5.8 2.2]\n [6.6 2.1]\n [4.5 1.7]\n [6.3 1.8]\n [5.8 1.8]\n [6.1 2.5]\n [5.1 2. ]\n [5.3 1.9]\n [5.5 2.1]\n [5.  2. ]\n [5.1 2.4]\n [5.3 2.3]\n [5.5 1.8]\n [6.7 2.2]\n [6.9 2.3]\n [5.  1.5]\n [5.7 2.3]\n [4.9 2. ]\n [6.7 2. ]\n [4.9 1.8]\n [5.7 2.1]\n [6.  1.8]\n [4.8 1.8]\n [4.9 1.8]\n [5.6 2.1]\n [5.8 1.6]\n [6.1 1.9]\n [6.4 2. ]\n [5.6 2.2]\n [5.1 1.5]\n [5.6 1.4]\n [6.1 2.3]\n [5.6 2.4]\n [5.5 1.8]\n [4.8 1.8]\n [5.4 2.1]\n [5.6 2.4]\n [5.1 2.3]\n [5.1 1.9]\n [5.9 2.3]\n [5.7 2.5]\n [5.2 2.3]\n [5.  1.9]\n [5.2 2. ]\n [5.4 2.3]\n [5.1 1.8]]\n[0 0 0 0 0 0 0 0 0 0 0 0 0 0 0 0 0 0 0 0 0 0 0 0 0 0 0 0 0 0 0 0 0 0 0 0 0\n 0 0 0 0 0 0 0 0 0 0 0 0 0 1 1 1 1 1 1 1 1 1 1 1 1 1 1 1 1 1 1 1 1 1 1 1 1\n 1 1 1 1 1 1 1 1 1 1 1 1 1 1 1 1 1 1 1 1 1 1 1 1 1 1 2 2 2 2 2 2 2 2 2 2 2\n 2 2 2 2 2 2 2 2 2 2 2 2 2 2 2 2 2 2 2 2 2 2 2 2 2 2 2 2 2 2 2 2 2 2 2 2 2\n 2 2]\n",
          "name": "stdout"
        }
      ]
    },
    {
      "metadata": {},
      "cell_type": "markdown",
      "source": "Now let's train a DecisionTreeClassifier (with a max depth of 2) on the x and y data. (The greater the depth of the tree, the more it tends to overfit. Keeping the max_depth shallow(ish) helps to keep the tree generalisable (regularization)). "
    },
    {
      "metadata": {
        "trusted": true
      },
      "cell_type": "code",
      "source": "from sklearn.tree import DecisionTreeClassifier\n\ntree_clf = DecisionTreeClassifier( max_depth = 2 )\ntree_clf.fit( x, y )\nprint( tree_clf )",
      "execution_count": 12,
      "outputs": [
        {
          "output_type": "stream",
          "text": "DecisionTreeClassifier(class_weight=None, criterion='gini', max_depth=2,\n            max_features=None, max_leaf_nodes=None,\n            min_impurity_decrease=0.0, min_impurity_split=None,\n            min_samples_leaf=1, min_samples_split=2,\n            min_weight_fraction_leaf=0.0, presort=False, random_state=None,\n            splitter='best')\n",
          "name": "stdout"
        }
      ]
    },
    {
      "metadata": {},
      "cell_type": "markdown",
      "source": "You can visualise the trained Decision Tree by first using the export_graphviz( ) method, to output a graph definition file called \"iris_tree.dot\".  "
    },
    {
      "metadata": {
        "trusted": true
      },
      "cell_type": "code",
      "source": "from sklearn.tree import export_graphviz\n\nexport_graphviz( \n        tree_clf,\n        out_file = \"iris_tree.dot\", \n        feature_names = iris.feature_names[ 2: ],\n        class_names = iris.target_names,\n        rounded = True,\n        filled = True\n    )\n",
      "execution_count": 13,
      "outputs": []
    },
    {
      "metadata": {},
      "cell_type": "markdown",
      "source": "Have a look at the iris_tree.png file. Each node's Gini attribute measure its 'impurity'. A node is 'pure' os gini = 0. E.g. all Iris setosa training instances belong to the same class, so gini 0. However, Iris versicolor has 54 training instances, although only 49 belong to the this class, 5 belong to Iris virginica. Gini here is 0.168. The equation for calculating gini is on page 169."
    },
    {
      "metadata": {},
      "cell_type": "markdown",
      "source": "A Decision Tree can also predict the probability that an instance belongs to a class. In this example, 0% for Setosa (0/54), 90.7% for Versicola (49/54), 9.3% for Virginica (5/54). "
    },
    {
      "metadata": {
        "trusted": true
      },
      "cell_type": "code",
      "source": "tree_clf.predict_proba( [ [ 5.0, 1.5  ] ] )",
      "execution_count": 15,
      "outputs": [
        {
          "output_type": "execute_result",
          "execution_count": 15,
          "data": {
            "text/plain": "array([[0.        , 0.90740741, 0.09259259]])"
          },
          "metadata": {}
        }
      ]
    },
    {
      "metadata": {},
      "cell_type": "markdown",
      "source": "If the Decision Tree is asked to predict the class, it picks the class with the highest probability. "
    },
    {
      "metadata": {
        "trusted": true
      },
      "cell_type": "code",
      "source": "tree_clf.predict( [ [ 5.0, 1.5 ] ] )",
      "execution_count": 16,
      "outputs": [
        {
          "output_type": "execute_result",
          "execution_count": 16,
          "data": {
            "text/plain": "array([1])"
          },
          "metadata": {}
        }
      ]
    }
  ],
  "metadata": {
    "kernelspec": {
      "name": "python3",
      "display_name": "Python 3",
      "language": "python"
    },
    "language_info": {
      "mimetype": "text/x-python",
      "nbconvert_exporter": "python",
      "name": "python",
      "file_extension": ".py",
      "version": "3.5.4",
      "pygments_lexer": "ipython3",
      "codemirror_mode": {
        "version": 3,
        "name": "ipython"
      }
    }
  },
  "nbformat": 4,
  "nbformat_minor": 2
}