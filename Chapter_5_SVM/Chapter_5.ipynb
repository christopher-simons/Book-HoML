{
 "cells": [
  {
   "cell_type": "code",
   "execution_count": 3,
   "metadata": {},
   "outputs": [],
   "source": [
    "# \"Hands-On Machine Learning with Scikit-Learn & TensorFlow\"\n",
    "# Chapter 5 - Support Vector Machines\n",
    "# Chris Simons\n",
    "# 31 October 2019\n",
    "\n",
    "import numpy as np\n",
    "from sklearn import datasets\n",
    "from sklearn.pipeline import Pipeline\n",
    "from sklearn.preprocessing import StandardScaler\n",
    "from sklearn.svm import LinearSVC"
   ]
  },
  {
   "cell_type": "code",
   "execution_count": 9,
   "metadata": {},
   "outputs": [],
   "source": [
    "datasets?"
   ]
  },
  {
   "cell_type": "code",
   "execution_count": 4,
   "metadata": {},
   "outputs": [
    {
     "data": {
      "text/plain": [
       "{'data': array([[5.1, 3.5, 1.4, 0.2],\n",
       "        [4.9, 3. , 1.4, 0.2],\n",
       "        [4.7, 3.2, 1.3, 0.2],\n",
       "        [4.6, 3.1, 1.5, 0.2],\n",
       "        [5. , 3.6, 1.4, 0.2],\n",
       "        [5.4, 3.9, 1.7, 0.4],\n",
       "        [4.6, 3.4, 1.4, 0.3],\n",
       "        [5. , 3.4, 1.5, 0.2],\n",
       "        [4.4, 2.9, 1.4, 0.2],\n",
       "        [4.9, 3.1, 1.5, 0.1],\n",
       "        [5.4, 3.7, 1.5, 0.2],\n",
       "        [4.8, 3.4, 1.6, 0.2],\n",
       "        [4.8, 3. , 1.4, 0.1],\n",
       "        [4.3, 3. , 1.1, 0.1],\n",
       "        [5.8, 4. , 1.2, 0.2],\n",
       "        [5.7, 4.4, 1.5, 0.4],\n",
       "        [5.4, 3.9, 1.3, 0.4],\n",
       "        [5.1, 3.5, 1.4, 0.3],\n",
       "        [5.7, 3.8, 1.7, 0.3],\n",
       "        [5.1, 3.8, 1.5, 0.3],\n",
       "        [5.4, 3.4, 1.7, 0.2],\n",
       "        [5.1, 3.7, 1.5, 0.4],\n",
       "        [4.6, 3.6, 1. , 0.2],\n",
       "        [5.1, 3.3, 1.7, 0.5],\n",
       "        [4.8, 3.4, 1.9, 0.2],\n",
       "        [5. , 3. , 1.6, 0.2],\n",
       "        [5. , 3.4, 1.6, 0.4],\n",
       "        [5.2, 3.5, 1.5, 0.2],\n",
       "        [5.2, 3.4, 1.4, 0.2],\n",
       "        [4.7, 3.2, 1.6, 0.2],\n",
       "        [4.8, 3.1, 1.6, 0.2],\n",
       "        [5.4, 3.4, 1.5, 0.4],\n",
       "        [5.2, 4.1, 1.5, 0.1],\n",
       "        [5.5, 4.2, 1.4, 0.2],\n",
       "        [4.9, 3.1, 1.5, 0.2],\n",
       "        [5. , 3.2, 1.2, 0.2],\n",
       "        [5.5, 3.5, 1.3, 0.2],\n",
       "        [4.9, 3.6, 1.4, 0.1],\n",
       "        [4.4, 3. , 1.3, 0.2],\n",
       "        [5.1, 3.4, 1.5, 0.2],\n",
       "        [5. , 3.5, 1.3, 0.3],\n",
       "        [4.5, 2.3, 1.3, 0.3],\n",
       "        [4.4, 3.2, 1.3, 0.2],\n",
       "        [5. , 3.5, 1.6, 0.6],\n",
       "        [5.1, 3.8, 1.9, 0.4],\n",
       "        [4.8, 3. , 1.4, 0.3],\n",
       "        [5.1, 3.8, 1.6, 0.2],\n",
       "        [4.6, 3.2, 1.4, 0.2],\n",
       "        [5.3, 3.7, 1.5, 0.2],\n",
       "        [5. , 3.3, 1.4, 0.2],\n",
       "        [7. , 3.2, 4.7, 1.4],\n",
       "        [6.4, 3.2, 4.5, 1.5],\n",
       "        [6.9, 3.1, 4.9, 1.5],\n",
       "        [5.5, 2.3, 4. , 1.3],\n",
       "        [6.5, 2.8, 4.6, 1.5],\n",
       "        [5.7, 2.8, 4.5, 1.3],\n",
       "        [6.3, 3.3, 4.7, 1.6],\n",
       "        [4.9, 2.4, 3.3, 1. ],\n",
       "        [6.6, 2.9, 4.6, 1.3],\n",
       "        [5.2, 2.7, 3.9, 1.4],\n",
       "        [5. , 2. , 3.5, 1. ],\n",
       "        [5.9, 3. , 4.2, 1.5],\n",
       "        [6. , 2.2, 4. , 1. ],\n",
       "        [6.1, 2.9, 4.7, 1.4],\n",
       "        [5.6, 2.9, 3.6, 1.3],\n",
       "        [6.7, 3.1, 4.4, 1.4],\n",
       "        [5.6, 3. , 4.5, 1.5],\n",
       "        [5.8, 2.7, 4.1, 1. ],\n",
       "        [6.2, 2.2, 4.5, 1.5],\n",
       "        [5.6, 2.5, 3.9, 1.1],\n",
       "        [5.9, 3.2, 4.8, 1.8],\n",
       "        [6.1, 2.8, 4. , 1.3],\n",
       "        [6.3, 2.5, 4.9, 1.5],\n",
       "        [6.1, 2.8, 4.7, 1.2],\n",
       "        [6.4, 2.9, 4.3, 1.3],\n",
       "        [6.6, 3. , 4.4, 1.4],\n",
       "        [6.8, 2.8, 4.8, 1.4],\n",
       "        [6.7, 3. , 5. , 1.7],\n",
       "        [6. , 2.9, 4.5, 1.5],\n",
       "        [5.7, 2.6, 3.5, 1. ],\n",
       "        [5.5, 2.4, 3.8, 1.1],\n",
       "        [5.5, 2.4, 3.7, 1. ],\n",
       "        [5.8, 2.7, 3.9, 1.2],\n",
       "        [6. , 2.7, 5.1, 1.6],\n",
       "        [5.4, 3. , 4.5, 1.5],\n",
       "        [6. , 3.4, 4.5, 1.6],\n",
       "        [6.7, 3.1, 4.7, 1.5],\n",
       "        [6.3, 2.3, 4.4, 1.3],\n",
       "        [5.6, 3. , 4.1, 1.3],\n",
       "        [5.5, 2.5, 4. , 1.3],\n",
       "        [5.5, 2.6, 4.4, 1.2],\n",
       "        [6.1, 3. , 4.6, 1.4],\n",
       "        [5.8, 2.6, 4. , 1.2],\n",
       "        [5. , 2.3, 3.3, 1. ],\n",
       "        [5.6, 2.7, 4.2, 1.3],\n",
       "        [5.7, 3. , 4.2, 1.2],\n",
       "        [5.7, 2.9, 4.2, 1.3],\n",
       "        [6.2, 2.9, 4.3, 1.3],\n",
       "        [5.1, 2.5, 3. , 1.1],\n",
       "        [5.7, 2.8, 4.1, 1.3],\n",
       "        [6.3, 3.3, 6. , 2.5],\n",
       "        [5.8, 2.7, 5.1, 1.9],\n",
       "        [7.1, 3. , 5.9, 2.1],\n",
       "        [6.3, 2.9, 5.6, 1.8],\n",
       "        [6.5, 3. , 5.8, 2.2],\n",
       "        [7.6, 3. , 6.6, 2.1],\n",
       "        [4.9, 2.5, 4.5, 1.7],\n",
       "        [7.3, 2.9, 6.3, 1.8],\n",
       "        [6.7, 2.5, 5.8, 1.8],\n",
       "        [7.2, 3.6, 6.1, 2.5],\n",
       "        [6.5, 3.2, 5.1, 2. ],\n",
       "        [6.4, 2.7, 5.3, 1.9],\n",
       "        [6.8, 3. , 5.5, 2.1],\n",
       "        [5.7, 2.5, 5. , 2. ],\n",
       "        [5.8, 2.8, 5.1, 2.4],\n",
       "        [6.4, 3.2, 5.3, 2.3],\n",
       "        [6.5, 3. , 5.5, 1.8],\n",
       "        [7.7, 3.8, 6.7, 2.2],\n",
       "        [7.7, 2.6, 6.9, 2.3],\n",
       "        [6. , 2.2, 5. , 1.5],\n",
       "        [6.9, 3.2, 5.7, 2.3],\n",
       "        [5.6, 2.8, 4.9, 2. ],\n",
       "        [7.7, 2.8, 6.7, 2. ],\n",
       "        [6.3, 2.7, 4.9, 1.8],\n",
       "        [6.7, 3.3, 5.7, 2.1],\n",
       "        [7.2, 3.2, 6. , 1.8],\n",
       "        [6.2, 2.8, 4.8, 1.8],\n",
       "        [6.1, 3. , 4.9, 1.8],\n",
       "        [6.4, 2.8, 5.6, 2.1],\n",
       "        [7.2, 3. , 5.8, 1.6],\n",
       "        [7.4, 2.8, 6.1, 1.9],\n",
       "        [7.9, 3.8, 6.4, 2. ],\n",
       "        [6.4, 2.8, 5.6, 2.2],\n",
       "        [6.3, 2.8, 5.1, 1.5],\n",
       "        [6.1, 2.6, 5.6, 1.4],\n",
       "        [7.7, 3. , 6.1, 2.3],\n",
       "        [6.3, 3.4, 5.6, 2.4],\n",
       "        [6.4, 3.1, 5.5, 1.8],\n",
       "        [6. , 3. , 4.8, 1.8],\n",
       "        [6.9, 3.1, 5.4, 2.1],\n",
       "        [6.7, 3.1, 5.6, 2.4],\n",
       "        [6.9, 3.1, 5.1, 2.3],\n",
       "        [5.8, 2.7, 5.1, 1.9],\n",
       "        [6.8, 3.2, 5.9, 2.3],\n",
       "        [6.7, 3.3, 5.7, 2.5],\n",
       "        [6.7, 3. , 5.2, 2.3],\n",
       "        [6.3, 2.5, 5. , 1.9],\n",
       "        [6.5, 3. , 5.2, 2. ],\n",
       "        [6.2, 3.4, 5.4, 2.3],\n",
       "        [5.9, 3. , 5.1, 1.8]]),\n",
       " 'target': array([0, 0, 0, 0, 0, 0, 0, 0, 0, 0, 0, 0, 0, 0, 0, 0, 0, 0, 0, 0, 0, 0,\n",
       "        0, 0, 0, 0, 0, 0, 0, 0, 0, 0, 0, 0, 0, 0, 0, 0, 0, 0, 0, 0, 0, 0,\n",
       "        0, 0, 0, 0, 0, 0, 1, 1, 1, 1, 1, 1, 1, 1, 1, 1, 1, 1, 1, 1, 1, 1,\n",
       "        1, 1, 1, 1, 1, 1, 1, 1, 1, 1, 1, 1, 1, 1, 1, 1, 1, 1, 1, 1, 1, 1,\n",
       "        1, 1, 1, 1, 1, 1, 1, 1, 1, 1, 1, 1, 2, 2, 2, 2, 2, 2, 2, 2, 2, 2,\n",
       "        2, 2, 2, 2, 2, 2, 2, 2, 2, 2, 2, 2, 2, 2, 2, 2, 2, 2, 2, 2, 2, 2,\n",
       "        2, 2, 2, 2, 2, 2, 2, 2, 2, 2, 2, 2, 2, 2, 2, 2, 2, 2]),\n",
       " 'target_names': array(['setosa', 'versicolor', 'virginica'], dtype='<U10'),\n",
       " 'DESCR': '.. _iris_dataset:\\n\\nIris plants dataset\\n--------------------\\n\\n**Data Set Characteristics:**\\n\\n    :Number of Instances: 150 (50 in each of three classes)\\n    :Number of Attributes: 4 numeric, predictive attributes and the class\\n    :Attribute Information:\\n        - sepal length in cm\\n        - sepal width in cm\\n        - petal length in cm\\n        - petal width in cm\\n        - class:\\n                - Iris-Setosa\\n                - Iris-Versicolour\\n                - Iris-Virginica\\n                \\n    :Summary Statistics:\\n\\n    ============== ==== ==== ======= ===== ====================\\n                    Min  Max   Mean    SD   Class Correlation\\n    ============== ==== ==== ======= ===== ====================\\n    sepal length:   4.3  7.9   5.84   0.83    0.7826\\n    sepal width:    2.0  4.4   3.05   0.43   -0.4194\\n    petal length:   1.0  6.9   3.76   1.76    0.9490  (high!)\\n    petal width:    0.1  2.5   1.20   0.76    0.9565  (high!)\\n    ============== ==== ==== ======= ===== ====================\\n\\n    :Missing Attribute Values: None\\n    :Class Distribution: 33.3% for each of 3 classes.\\n    :Creator: R.A. Fisher\\n    :Donor: Michael Marshall (MARSHALL%PLU@io.arc.nasa.gov)\\n    :Date: July, 1988\\n\\nThe famous Iris database, first used by Sir R.A. Fisher. The dataset is taken\\nfrom Fisher\\'s paper. Note that it\\'s the same as in R, but not as in the UCI\\nMachine Learning Repository, which has two wrong data points.\\n\\nThis is perhaps the best known database to be found in the\\npattern recognition literature.  Fisher\\'s paper is a classic in the field and\\nis referenced frequently to this day.  (See Duda & Hart, for example.)  The\\ndata set contains 3 classes of 50 instances each, where each class refers to a\\ntype of iris plant.  One class is linearly separable from the other 2; the\\nlatter are NOT linearly separable from each other.\\n\\n.. topic:: References\\n\\n   - Fisher, R.A. \"The use of multiple measurements in taxonomic problems\"\\n     Annual Eugenics, 7, Part II, 179-188 (1936); also in \"Contributions to\\n     Mathematical Statistics\" (John Wiley, NY, 1950).\\n   - Duda, R.O., & Hart, P.E. (1973) Pattern Classification and Scene Analysis.\\n     (Q327.D83) John Wiley & Sons.  ISBN 0-471-22361-1.  See page 218.\\n   - Dasarathy, B.V. (1980) \"Nosing Around the Neighborhood: A New System\\n     Structure and Classification Rule for Recognition in Partially Exposed\\n     Environments\".  IEEE Transactions on Pattern Analysis and Machine\\n     Intelligence, Vol. PAMI-2, No. 1, 67-71.\\n   - Gates, G.W. (1972) \"The Reduced Nearest Neighbor Rule\".  IEEE Transactions\\n     on Information Theory, May 1972, 431-433.\\n   - See also: 1988 MLC Proceedings, 54-64.  Cheeseman et al\"s AUTOCLASS II\\n     conceptual clustering system finds 3 classes in the data.\\n   - Many, many more ...',\n",
       " 'feature_names': ['sepal length (cm)',\n",
       "  'sepal width (cm)',\n",
       "  'petal length (cm)',\n",
       "  'petal width (cm)'],\n",
       " 'filename': 'C:\\\\Users\\\\cl-simons\\\\AppData\\\\Local\\\\Continuum\\\\anaconda3\\\\lib\\\\site-packages\\\\sklearn\\\\datasets\\\\data\\\\iris.csv'}"
      ]
     },
     "execution_count": 4,
     "metadata": {},
     "output_type": "execute_result"
    }
   ],
   "source": [
    "# load iris dataset\n",
    "\n",
    "iris = datasets.load_iris( )\n",
    "iris"
   ]
  },
  {
   "cell_type": "code",
   "execution_count": 6,
   "metadata": {},
   "outputs": [
    {
     "name": "stdout",
     "output_type": "stream",
     "text": [
      "predicting 5.5, 1.4\n"
     ]
    },
    {
     "data": {
      "text/plain": [
       "array([0.])"
      ]
     },
     "execution_count": 6,
     "metadata": {},
     "output_type": "execute_result"
    },
    {
     "data": {
      "image/png": "[encoded data removed]",
      "text/plain": [
       "<Figure size 432x288 with 1 Axes>"
      ]
     },
     "metadata": {
      "needs_background": "light"
     },
     "output_type": "display_data"
    }
   ],
   "source": [
    "# Before we classify, let's have a look at the data\n",
    "\n",
    "import matplotlib.pyplot as plt\n",
    "\n",
    "x = iris[ \"data\" ][ :, (2, 3) ] # petal length, petal width\n",
    "y = (iris[ \"target\" ] == 2 ).astype( np.float64 ) # Iris Virginia\n",
    "\n",
    "# print( x )\n",
    "# print( y )\n",
    "\n",
    "# look at the data in a scatter plot\n",
    "# plt.scatter( x[ :, ( 0 ) ], x[ :, ( 1 ) ] )\n",
    "# plt.plot( )\n",
    "\n",
    "# look at the data by species in a scatter plot\n",
    "i = 0\n",
    "j = len(iris[ \"data\" ] )\n",
    "a, b, c, d, e, f = [ ], [ ], [ ], [ ], [ ], [ ]\n",
    "\n",
    "for i in range( j ):\n",
    "    if( iris[ \"target\" ][ i ] == 0 ):\n",
    "        a.append( iris[ \"data\" ][ i, ( 2 ) ] ) # petal length\n",
    "        b.append( iris[ \"data\" ][ i, ( 3 ) ] ) # petal width\n",
    "    elif( iris[ \"target\" ][ i ] == 1 ):\n",
    "        c.append( iris[ \"data\" ][ i, ( 2 ) ] )\n",
    "        d.append( iris[ \"data\" ][ i, ( 3 ) ] )        \n",
    "    else:\n",
    "        e.append( iris[ \"data\" ][ i, ( 2 ) ] )\n",
    "        f.append( iris[ \"data\" ][ i, ( 3 ) ] )\n",
    "\n",
    "plt.scatter( a, b, color = \"blue\", label = \"Setosa\" ) # Iris Setosa\n",
    "plt.scatter( c, d, color = \"green\", label = \"Versicola\" ) # Iris Versicola\n",
    "plt.scatter( e, f, color = \"red\", label = \"Viginica\" ) # Iris Virginica\n",
    "plt.xlabel( \"Petal Length\" )\n",
    "plt.ylabel( \"Petal Width\" )\n",
    "plt.title( \"Fisher Iris Dataset\" )\n",
    "plt.legend( loc = 'upper left' )\n",
    "plt.plot( )\n",
    "        \n",
    "# use a Linear SVM model to classify whether the species is Virginica or not\n",
    "\n",
    "svm_clf = Pipeline( (\n",
    "        ( \"scaler\", StandardScaler( ) ),\n",
    "        ( \"linear_svc\", LinearSVC( C = 1 , loss = \"hinge\" ) ),\n",
    "    ))\n",
    "\n",
    "svm_clf.fit( x, y )\n",
    "\n",
    "# test some values\n",
    "#print( \"predicting 5.5, 1.7\")\n",
    "#svm_clf.predict( [ [ 5.5, 1.7 ] ] ) # output is 1\n",
    "\n",
    "#print( \"predicting 5.5, 1.6\")\n",
    "#svm_clf.predict( [ [ 5.5, 1.6 ] ] ) # output is 1\n",
    "\n",
    "#print( \"predicting 5.5, 1.5\")\n",
    "#svm_clf.predict( [ [ 5.5, 1.4 ] ] ) # output is 1\n",
    "\n",
    "print( \"predicting 5.5, 1.4\")\n",
    "svm_clf.predict( [ [ 5.5, 1.4 ] ] ) # output is 0\n"
   ]
  },
  {
   "cell_type": "code",
   "execution_count": 4,
   "metadata": {},
   "outputs": [
    {
     "data": {
      "image/png": "[encoded data removed]",
      "text/plain": [
       "<Figure size 432x288 with 1 Axes>"
      ]
     },
     "metadata": {
      "needs_background": "light"
     },
     "output_type": "display_data"
    }
   ],
   "source": [
    "# to show the linear separation\n",
    "\n",
    "x, y \n",
    "a, b, c, d = [ ], [ ], [ ], [ ]\n",
    "\n",
    "for i in range( 0, 70 ):\n",
    "    for j in range( 0, 25 ):\n",
    "        x = i * 0.1\n",
    "        y = j * 0.1\n",
    "        holder = svm_clf.predict( [ [ x, y ] ] )\n",
    "        if( holder[ 0 ] == 0 ):\n",
    "            a.append( x )\n",
    "            b.append( y )\n",
    "        else:\n",
    "            c.append( x )\n",
    "            d.append( y )\n",
    "\n",
    "plt.scatter( a, b, color = \"blue\" )\n",
    "plt.scatter( c, d, color = \"red\" ) # Virginica\n",
    "plt.xlabel( \"Petal Length\" )\n",
    "plt.ylabel( \"Petal Width\" )\n",
    "plt.show( )"
   ]
  },
  {
   "cell_type": "code",
   "execution_count": 5,
   "metadata": {},
   "outputs": [
    {
     "data": {
      "text/plain": [
       "(array([[-6.72300890e-01,  7.40277997e-01],\n",
       "        [ 4.81607432e-01, -3.55142763e-01],\n",
       "        [-6.23489802e-01,  7.81831482e-01],\n",
       "        [ 3.76510198e-01, -2.81831482e-01],\n",
       "        [-8.01413622e-01,  5.98110530e-01],\n",
       "        [ 1.76144596e+00, -1.48228395e-01],\n",
       "        [ 9.97945393e-01,  6.40702200e-02],\n",
       "        [ 1.99794539e+00,  4.35929780e-01],\n",
       "        [ 1.57211666e+00, -3.20172255e-01],\n",
       "        [ 4.62538290e-01,  8.86599306e-01],\n",
       "        [ 9.26916757e-01,  3.75267005e-01],\n",
       "        [ 3.20515776e-02,  9.99486216e-01],\n",
       "        [ 1.22252093e+00, -4.74927912e-01],\n",
       "        [-2.84527587e-01,  9.58667853e-01],\n",
       "        [ 1.67230089e+00, -2.40277997e-01],\n",
       "        [ 3.27699110e-01, -2.40277997e-01],\n",
       "        [ 7.77479066e-01, -4.74927912e-01],\n",
       "        [ 4.04783343e-01,  9.14412623e-01],\n",
       "        [ 6.54634946e-01, -4.38468422e-01],\n",
       "        [-7.18349350e-01,  6.95682551e-01],\n",
       "        [ 5.95216657e-01, -4.14412623e-01],\n",
       "        [-9.97945393e-01,  6.40702200e-02],\n",
       "        [ 2.84527587e-01,  9.58667853e-01],\n",
       "        [ 1.99179001e+00,  3.72122838e-01],\n",
       "        [ 5.37461710e-01, -3.86599306e-01],\n",
       "        [ 1.62348980e+00, -2.81831482e-01],\n",
       "        [ 7.30832427e-02,  1.24732995e-01],\n",
       "        [ 9.91790014e-01,  1.27877162e-01],\n",
       "        [ 9.81559157e-01,  1.91158629e-01],\n",
       "        [ 1.94905575e+00,  1.84891782e-01],\n",
       "        [-9.00968868e-01,  4.33883739e-01],\n",
       "        [ 1.51839257e+00, -3.55142763e-01],\n",
       "        [ 7.61445958e-01,  6.48228395e-01],\n",
       "        [ 1.96729486e+00,  2.46345416e-01],\n",
       "        [-8.71318704e-01,  4.90717552e-01],\n",
       "        [-9.49055747e-01,  3.15108218e-01],\n",
       "        [ 5.09442530e-02,  1.84891782e-01],\n",
       "        [ 9.03976974e-01, -4.95379113e-01],\n",
       "        [ 1.46253829e+00, -3.86599306e-01],\n",
       "        [-1.00000000e+00,  1.22464680e-16],\n",
       "        [ 1.00000000e+00,  0.00000000e+00],\n",
       "        [ 1.80141362e+00, -9.81105305e-02],\n",
       "        [ 1.28452759e+00, -4.58667853e-01],\n",
       "        [ 8.38088105e-01,  5.45534901e-01],\n",
       "        [ 1.83808810e+00, -4.55349012e-02],\n",
       "        [ 1.03205158e+00, -4.99486216e-01],\n",
       "        [ 1.09602303e+00, -4.95379113e-01],\n",
       "        [ 9.49055747e-01,  3.15108218e-01],\n",
       "        [ 0.00000000e+00,  5.00000000e-01],\n",
       "        [ 1.61911895e-01, -4.55349012e-02],\n",
       "        [-9.67294863e-01,  2.53654584e-01],\n",
       "        [ 8.71318704e-01,  4.90717552e-01],\n",
       "        [ 8.20998618e-03,  3.72122838e-01],\n",
       "        [-7.61445958e-01,  6.48228395e-01],\n",
       "        [ 6.72300890e-01,  7.40277997e-01],\n",
       "        [ 3.45365054e-01,  9.38468422e-01],\n",
       "        [ 1.84408430e-02,  3.08841371e-01],\n",
       "        [-5.72116660e-01,  8.20172255e-01],\n",
       "        [ 2.38554042e-01, -1.48228395e-01],\n",
       "        [ 3.27051370e-02,  2.46345416e-01],\n",
       "        [ 2.00000000e+00,  5.00000000e-01],\n",
       "        [-5.18392568e-01,  8.55142763e-01],\n",
       "        [ 1.28681296e-01,  9.28244800e-03],\n",
       "        [-4.04783343e-01,  9.14412623e-01],\n",
       "        [ 9.00968868e-01,  4.33883739e-01],\n",
       "        [-9.81559157e-01,  1.91158629e-01],\n",
       "        [ 1.90096887e+00,  6.61162609e-02],\n",
       "        [ 1.40478334e+00, -4.14412623e-01],\n",
       "        [ 2.81650650e-01, -1.95682551e-01],\n",
       "        [ 9.67948422e-01, -4.99486216e-01],\n",
       "        [ 8.01413622e-01,  5.98110530e-01],\n",
       "        [ 1.71834935e+00, -1.95682551e-01],\n",
       "        [-9.26916757e-01,  3.75267005e-01],\n",
       "        [ 9.60230259e-02,  9.95379113e-01],\n",
       "        [ 7.18349350e-01,  6.95682551e-01],\n",
       "        [ 1.98155916e+00,  3.08841371e-01],\n",
       "        [-2.22520934e-01,  9.74927912e-01],\n",
       "        [-9.60230259e-02,  9.95379113e-01],\n",
       "        [ 5.72116660e-01,  8.20172255e-01],\n",
       "        [ 1.87131870e+00,  9.28244800e-03],\n",
       "        [ 6.23489802e-01,  7.81831482e-01],\n",
       "        [-9.91790014e-01,  1.27877162e-01],\n",
       "        [ 7.15472413e-01, -4.58667853e-01],\n",
       "        [ 2.05460725e-03,  4.35929780e-01],\n",
       "        [ 1.34536505e+00, -4.38468422e-01],\n",
       "        [ 1.15959990e+00, -4.87181783e-01],\n",
       "        [-8.38088105e-01,  5.45534901e-01],\n",
       "        [ 8.40400105e-01, -4.87181783e-01],\n",
       "        [ 1.98586378e-01, -9.81105305e-02],\n",
       "        [ 1.59599895e-01,  9.87181783e-01],\n",
       "        [-3.45365054e-01,  9.38468422e-01],\n",
       "        [ 4.27883340e-01, -3.20172255e-01],\n",
       "        [-1.59599895e-01,  9.87181783e-01],\n",
       "        [ 2.22520934e-01,  9.74927912e-01],\n",
       "        [ 9.67294863e-01,  2.53654584e-01],\n",
       "        [-4.62538290e-01,  8.86599306e-01],\n",
       "        [ 1.92691676e+00,  1.24732995e-01],\n",
       "        [ 9.90311321e-02,  6.61162609e-02],\n",
       "        [ 5.18392568e-01,  8.55142763e-01],\n",
       "        [-3.20515776e-02,  9.99486216e-01]]),\n",
       " array([0, 1, 0, 1, 0, 1, 0, 1, 1, 0, 0, 0, 1, 0, 1, 1, 1, 0, 1, 0, 1, 0,\n",
       "        0, 1, 1, 1, 1, 0, 0, 1, 0, 1, 0, 1, 0, 0, 1, 1, 1, 0, 0, 1, 1, 0,\n",
       "        1, 1, 1, 0, 1, 1, 0, 0, 1, 0, 0, 0, 1, 0, 1, 1, 1, 0, 1, 0, 0, 0,\n",
       "        1, 1, 1, 1, 0, 1, 0, 0, 0, 1, 0, 0, 0, 1, 0, 0, 1, 1, 1, 1, 0, 1,\n",
       "        1, 0, 0, 1, 0, 0, 0, 0, 1, 1, 0, 0], dtype=int64))"
      ]
     },
     "execution_count": 5,
     "metadata": {},
     "output_type": "execute_result"
    }
   ],
   "source": [
    "# load moons dataset\n",
    "\n",
    "from sklearn.datasets import make_moons\n",
    "from sklearn.preprocessing import PolynomialFeatures\n",
    "\n",
    "moons = make_moons( )\n",
    "moons"
   ]
  },
  {
   "cell_type": "code",
   "execution_count": 6,
   "metadata": {},
   "outputs": [
    {
     "data": {
      "image/png": "[encoded data removed]",
      "text/plain": [
       "<Figure size 432x288 with 1 Axes>"
      ]
     },
     "metadata": {
      "needs_background": "light"
     },
     "output_type": "display_data"
    }
   ],
   "source": [
    "# extract the 'x' and 'y' values and plot the two moons\n",
    "\n",
    "length = len( moons[ 0 ] )\n",
    "# print( length )\n",
    "\n",
    "a, b, c, d = [ ], [ ], [ ], [ ]\n",
    "\n",
    "for i in range( length ):\n",
    "    if moons[ 1 ][ i ]  == 0:\n",
    "        a.append( moons[ 0 ][ i, ( 0 ) ] )\n",
    "        b.append( moons[ 0 ][ i, ( 1 ) ] )\n",
    "    else:\n",
    "        c.append( moons[ 0 ][ i, ( 0 ) ] )\n",
    "        d.append( moons[ 0 ][ i, ( 1 ) ] )\n",
    "\n",
    "plt.scatter( a, b, color = \"blue\" )\n",
    "plt.scatter( c, d, color = \"red\" )\n",
    "plt.show( )"
   ]
  },
  {
   "cell_type": "code",
   "execution_count": 13,
   "metadata": {},
   "outputs": [
    {
     "name": "stdout",
     "output_type": "stream",
     "text": [
      "100\n",
      "100\n"
     ]
    },
    {
     "name": "stderr",
     "output_type": "stream",
     "text": [
      "C:\\Users\\cl-simons\\AppData\\Local\\Continuum\\anaconda3\\lib\\site-packages\\sklearn\\svm\\base.py:929: ConvergenceWarning: Liblinear failed to converge, increase the number of iterations.\n",
      "  \"the number of iterations.\", ConvergenceWarning)\n"
     ]
    },
    {
     "data": {
      "text/plain": [
       "array([0], dtype=int64)"
      ]
     },
     "execution_count": 13,
     "metadata": {},
     "output_type": "execute_result"
    }
   ],
   "source": [
    "x = moons[ 0 ][ :, (0, 1 ) ]\n",
    "print( len( x ) )\n",
    "y = moons[ 1 ][ : ]\n",
    "print( len( y ) )\n",
    "\n",
    "# plt.scatter( x[ :,(0 ) ], x[ :, (1) ] )\n",
    "# plt.show( )\n",
    "\n",
    "# use a PolynomialFeatures SVM model to classify the moon of \n",
    "# an x, y datapoint in a nonlinear dataset \n",
    "\n",
    "polynomial_svm_clf = Pipeline( ( \n",
    "        ( \"poly_features\", PolynomialFeatures( degree = 3 ) ),\n",
    "        ( \"scaler\", StandardScaler( ) ),\n",
    "        ( \"svm_clf\", LinearSVC( C = 10, loss = \"hinge\" ) )\n",
    "    ))\n",
    "\n",
    "polynomial_svm_clf.fit( x, y )\n",
    "\n",
    "polynomial_svm_clf.predict( [ [ 0.5, 0.4 ] ] )\n",
    "\n",
    "#just to show that the polynomial pipeline isn't squaring (as in the book) \n",
    "#plt.scatter( (x[ :,(0 ) ])**2, (x[ :, (1) ])**2 )\n",
    "#plt.show( )\n",
    "\n"
   ]
  },
  {
   "cell_type": "code",
   "execution_count": 18,
   "metadata": {},
   "outputs": [
    {
     "data": {
      "image/png": "[encoded data removed]",
      "text/plain": [
       "<Figure size 432x288 with 1 Axes>"
      ]
     },
     "metadata": {
      "needs_background": "light"
     },
     "output_type": "display_data"
    }
   ],
   "source": [
    "# to show the nonlinear distributions\n",
    "# using a LinearSVC but with PolynomialFeatures\n",
    "\n",
    "x_coord1, y_coord1 = 0.0, 0.0\n",
    "a1, b1, c1, d1 = [ ], [ ], [ ], [ ]\n",
    "\n",
    "for i in range( -10, 20 ):\n",
    "    for j in range( -5, 10 ):\n",
    "        x_coord1 = i * 0.1\n",
    "        y_coord1 = j * 0.1\n",
    "        holder = polynomial_svm_clf.predict( [ [ x_coord1, y_coord1 ] ] )\n",
    "        if( holder[ 0 ] == 0 ):\n",
    "            a1.append( x_coord1 )\n",
    "            b1.append( y_coord1 )\n",
    "        else:\n",
    "            c1.append( x_coord1 )\n",
    "            d1.append( y_coord1 )\n",
    "\n",
    "plt.scatter( a1, b1, color = \"blue\" )\n",
    "plt.scatter( c1, d1, color = \"red\" )\n",
    "plt.title( \"LinearSVC with Polynomial Features\" )\n",
    "plt.show( )"
   ]
  },
  {
   "cell_type": "code",
   "execution_count": 15,
   "metadata": {},
   "outputs": [
    {
     "name": "stdout",
     "output_type": "stream",
     "text": [
      "100\n",
      "100\n"
     ]
    },
    {
     "name": "stderr",
     "output_type": "stream",
     "text": [
      "C:\\Users\\cl-simons\\AppData\\Local\\Continuum\\anaconda3\\lib\\site-packages\\sklearn\\svm\\base.py:193: FutureWarning: The default value of gamma will change from 'auto' to 'scale' in version 0.22 to account better for unscaled features. Set gamma explicitly to 'auto' or 'scale' to avoid this warning.\n",
      "  \"avoid this warning.\", FutureWarning)\n"
     ]
    },
    {
     "data": {
      "text/plain": [
       "array([1], dtype=int64)"
      ]
     },
     "execution_count": 15,
     "metadata": {},
     "output_type": "execute_result"
    }
   ],
   "source": [
    "x = moons[ 0 ][ :, (0, 1 ) ]\n",
    "print( len( x ) )\n",
    "y = moons[ 1 ][ : ]\n",
    "print( len( y ) )\n",
    "\n",
    "# plt.scatter( x[ :,(0 ) ], x[ :, (1) ] )\n",
    "# plt.show( )\n",
    "\n",
    "# use a PolynomialKernel SVM model to classify the moon of \n",
    "# an x, y datapoint in a nonlinear dataset \n",
    "\n",
    "from sklearn.svm import SVC\n",
    "\n",
    "poly_kernel_svm_clf = Pipeline( ( \n",
    "        ( \"poly_features\", PolynomialFeatures( degree = 3 ) ),\n",
    "        ( \"scaler\", StandardScaler( ) ),\n",
    "        ( \"svm_clf\", SVC( kernel = \"poly\", degree = 3, coef0 = 1, C = 5 ) )\n",
    "    ))\n",
    "\n",
    "poly_kernel_svm_clf.fit( x, y )\n",
    "\n",
    "poly_kernel_svm_clf.predict( [ [ 0.5, 0.4 ] ] )"
   ]
  },
  {
   "cell_type": "code",
   "execution_count": 17,
   "metadata": {},
   "outputs": [
    {
     "data": {
      "image/png": "[encoded data removed]",
      "text/plain": [
       "<Figure size 432x288 with 1 Axes>"
      ]
     },
     "metadata": {
      "needs_background": "light"
     },
     "output_type": "display_data"
    }
   ],
   "source": [
    "# to show the nonlinear distributions\n",
    "# using an SVC with a polynomial kernel\n",
    "\n",
    "x_coord2, y_coord2 = 0.0, 0.0\n",
    "a2, b2, c2, d2 = [ ], [ ], [ ], [ ]\n",
    "\n",
    "for i in range( -10, 20 ):\n",
    "    for j in range( -5, 10 ):\n",
    "        x_coord2 = i * 0.1\n",
    "        y_coord2 = j * 0.1\n",
    "        holder = poly_kernel_svm_clf.predict( [ [ x_coord2, y_coord2 ] ] )\n",
    "        if( holder[ 0 ] == 0 ):\n",
    "            a2.append( x_coord2 )\n",
    "            b2.append( y_coord2 )\n",
    "        else:\n",
    "            c2.append( x_coord2 )\n",
    "            d2.append( y_coord2 )\n",
    "\n",
    "plt.scatter( a2, b2, color = \"blue\" )\n",
    "plt.scatter( c2, d2, color = \"red\" )\n",
    "plt.title( \"SVC with a Polynomial Kernel\" )\n",
    "plt.show( )"
   ]
  },
  {
   "cell_type": "code",
   "execution_count": 16,
   "metadata": {},
   "outputs": [
    {
     "data": {
      "text/plain": [
       "array([0], dtype=int64)"
      ]
     },
     "execution_count": 16,
     "metadata": {},
     "output_type": "execute_result"
    }
   ],
   "source": [
    "# use a Gaussian Radial Basis Function (RBF) Kernal\n",
    "\n",
    "rbf_kernel_svm_clf = Pipeline( ( \n",
    "        ( \"scaler\", StandardScaler( ) ),\n",
    "        ( \"svm_clf\", SVC( kernel = \"rbf\", gamma = 5, C = 0.001 ) )\n",
    "    ))\n",
    "\n",
    "rbf_kernel_svm_clf.fit( x, y )\n",
    "\n",
    "rbf_kernel_svm_clf.predict( [ [ 0.5, 0.4 ] ] )"
   ]
  },
  {
   "cell_type": "code",
   "execution_count": 20,
   "metadata": {},
   "outputs": [
    {
     "data": {
      "image/png": "[encoded data removed]",
      "text/plain": [
       "<Figure size 432x288 with 1 Axes>"
      ]
     },
     "metadata": {
      "needs_background": "light"
     },
     "output_type": "display_data"
    }
   ],
   "source": [
    "# to show the nonlinear distributions\n",
    "# using an SVC with Gaussian RBF kernel\n",
    "\n",
    "x_coord3, y_coord3 = 0.0, 0.0\n",
    "a3, b3, c3, d3 = [ ], [ ], [ ], [ ]\n",
    "\n",
    "for i in range( -10, 20 ):\n",
    "    for j in range( -5, 10 ):\n",
    "        x_coord3 = i * 0.1\n",
    "        y_coord3 = j * 0.1\n",
    "        holder = poly_kernel_svm_clf.predict( [ [ x_coord3, y_coord3 ] ] )\n",
    "        if( holder[ 0 ] == 0 ):\n",
    "            a3.append( x_coord3 )\n",
    "            b3.append( y_coord3 )\n",
    "        else:\n",
    "            c3.append( x_coord3 )\n",
    "            d3.append( y_coord3 )\n",
    "\n",
    "plt.scatter( a3, b3, color = \"blue\" )\n",
    "plt.scatter( c3, d3, color = \"red\" )\n",
    "plt.title( \"SVC with Gaussian RBF kernel\" )\n",
    "plt.show( )"
   ]
  }
 ],
 "metadata": {
  "kernelspec": {
   "display_name": "Python 3",
   "language": "python",
   "name": "python3"
  },
  "language_info": {
   "codemirror_mode": {
    "name": "ipython",
    "version": 3
   },
   "file_extension": ".py",
   "mimetype": "text/x-python",
   "name": "python",
   "nbconvert_exporter": "python",
   "pygments_lexer": "ipython3",
   "version": "3.7.4"
  }
 },
 "nbformat": 4,
 "nbformat_minor": 2
}
