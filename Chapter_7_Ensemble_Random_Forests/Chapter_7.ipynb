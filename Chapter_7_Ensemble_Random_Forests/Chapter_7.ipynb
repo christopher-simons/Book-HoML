{
 "cells": [
  {
   "cell_type": "code",
   "execution_count": 2,
   "metadata": {},
   "outputs": [
    {
     "data": {
      "text/plain": [
       "(array([[ 1.40478334e+00, -4.14412623e-01],\n",
       "        [ 1.62348980e+00, -2.81831482e-01],\n",
       "        [ 8.40400105e-01, -4.87181783e-01],\n",
       "        [ 9.97945393e-01,  6.40702200e-02],\n",
       "        [ 5.72116660e-01,  8.20172255e-01],\n",
       "        [ 7.30832427e-02,  1.24732995e-01],\n",
       "        [ 7.18349350e-01,  6.95682551e-01],\n",
       "        [ 3.27051370e-02,  2.46345416e-01],\n",
       "        [ 9.49055747e-01,  3.15108218e-01],\n",
       "        [ 1.00000000e+00,  0.00000000e+00],\n",
       "        [-8.71318704e-01,  4.90717552e-01],\n",
       "        [ 1.99794539e+00,  4.35929780e-01],\n",
       "        [ 1.71834935e+00, -1.95682551e-01],\n",
       "        [-6.72300890e-01,  7.40277997e-01],\n",
       "        [ 4.81607432e-01, -3.55142763e-01],\n",
       "        [ 1.84408430e-02,  3.08841371e-01],\n",
       "        [ 2.84527587e-01,  9.58667853e-01],\n",
       "        [ 1.90096887e+00,  6.61162609e-02],\n",
       "        [ 8.71318704e-01,  4.90717552e-01],\n",
       "        [-9.97945393e-01,  6.40702200e-02],\n",
       "        [ 1.67230089e+00, -2.40277997e-01],\n",
       "        [ 1.98155916e+00,  3.08841371e-01],\n",
       "        [-7.18349350e-01,  6.95682551e-01],\n",
       "        [-9.81559157e-01,  1.91158629e-01],\n",
       "        [ 0.00000000e+00,  5.00000000e-01],\n",
       "        [ 1.80141362e+00, -9.81105305e-02],\n",
       "        [-1.59599895e-01,  9.87181783e-01],\n",
       "        [ 1.34536505e+00, -4.38468422e-01],\n",
       "        [ 1.96729486e+00,  2.46345416e-01],\n",
       "        [ 9.90311321e-02,  6.61162609e-02],\n",
       "        [-4.04783343e-01,  9.14412623e-01],\n",
       "        [ 6.72300890e-01,  7.40277997e-01],\n",
       "        [ 1.22252093e+00, -4.74927912e-01],\n",
       "        [ 6.23489802e-01,  7.81831482e-01],\n",
       "        [-2.84527587e-01,  9.58667853e-01],\n",
       "        [ 9.00968868e-01,  4.33883739e-01],\n",
       "        [ 2.22520934e-01,  9.74927912e-01],\n",
       "        [ 7.15472413e-01, -4.58667853e-01],\n",
       "        [ 1.28452759e+00, -4.58667853e-01],\n",
       "        [ 1.92691676e+00,  1.24732995e-01],\n",
       "        [ 1.83808810e+00, -4.55349012e-02],\n",
       "        [ 3.45365054e-01,  9.38468422e-01],\n",
       "        [ 4.04783343e-01,  9.14412623e-01],\n",
       "        [ 9.91790014e-01,  1.27877162e-01],\n",
       "        [ 5.95216657e-01, -4.14412623e-01],\n",
       "        [ 4.27883340e-01, -3.20172255e-01],\n",
       "        [ 1.61911895e-01, -4.55349012e-02],\n",
       "        [-9.91790014e-01,  1.27877162e-01],\n",
       "        [-3.20515776e-02,  9.99486216e-01],\n",
       "        [ 3.20515776e-02,  9.99486216e-01],\n",
       "        [-9.60230259e-02,  9.95379113e-01],\n",
       "        [ 5.37461710e-01, -3.86599306e-01],\n",
       "        [ 9.81559157e-01,  1.91158629e-01],\n",
       "        [-8.01413622e-01,  5.98110530e-01],\n",
       "        [ 9.67294863e-01,  2.53654584e-01],\n",
       "        [ 1.09602303e+00, -4.95379113e-01],\n",
       "        [-1.00000000e+00,  1.22464680e-16],\n",
       "        [-8.38088105e-01,  5.45534901e-01],\n",
       "        [ 5.09442530e-02,  1.84891782e-01],\n",
       "        [ 1.99179001e+00,  3.72122838e-01],\n",
       "        [-5.18392568e-01,  8.55142763e-01],\n",
       "        [ 1.51839257e+00, -3.55142763e-01],\n",
       "        [ 4.62538290e-01,  8.86599306e-01],\n",
       "        [-5.72116660e-01,  8.20172255e-01],\n",
       "        [ 7.77479066e-01, -4.74927912e-01],\n",
       "        [ 2.81650650e-01, -1.95682551e-01],\n",
       "        [-4.62538290e-01,  8.86599306e-01],\n",
       "        [ 1.03205158e+00, -4.99486216e-01],\n",
       "        [ 1.57211666e+00, -3.20172255e-01],\n",
       "        [ 2.00000000e+00,  5.00000000e-01],\n",
       "        [ 1.15959990e+00, -4.87181783e-01],\n",
       "        [-7.61445958e-01,  6.48228395e-01],\n",
       "        [-9.00968868e-01,  4.33883739e-01],\n",
       "        [-9.67294863e-01,  2.53654584e-01],\n",
       "        [ 6.54634946e-01, -4.38468422e-01],\n",
       "        [ 1.87131870e+00,  9.28244800e-03],\n",
       "        [ 3.76510198e-01, -2.81831482e-01],\n",
       "        [-9.26916757e-01,  3.75267005e-01],\n",
       "        [ 1.28681296e-01,  9.28244800e-03],\n",
       "        [ 1.59599895e-01,  9.87181783e-01],\n",
       "        [ 3.27699110e-01, -2.40277997e-01],\n",
       "        [ 9.60230259e-02,  9.95379113e-01],\n",
       "        [-9.49055747e-01,  3.15108218e-01],\n",
       "        [ 1.94905575e+00,  1.84891782e-01],\n",
       "        [ 1.46253829e+00, -3.86599306e-01],\n",
       "        [ 2.38554042e-01, -1.48228395e-01],\n",
       "        [-3.45365054e-01,  9.38468422e-01],\n",
       "        [-2.22520934e-01,  9.74927912e-01],\n",
       "        [ 9.67948422e-01, -4.99486216e-01],\n",
       "        [ 5.18392568e-01,  8.55142763e-01],\n",
       "        [ 9.03976974e-01, -4.95379113e-01],\n",
       "        [ 8.38088105e-01,  5.45534901e-01],\n",
       "        [ 1.76144596e+00, -1.48228395e-01],\n",
       "        [ 7.61445958e-01,  6.48228395e-01],\n",
       "        [ 9.26916757e-01,  3.75267005e-01],\n",
       "        [ 8.01413622e-01,  5.98110530e-01],\n",
       "        [-6.23489802e-01,  7.81831482e-01],\n",
       "        [ 1.98586378e-01, -9.81105305e-02],\n",
       "        [ 8.20998618e-03,  3.72122838e-01],\n",
       "        [ 2.05460725e-03,  4.35929780e-01]]),\n",
       " array([1, 1, 1, 0, 0, 1, 0, 1, 0, 0, 0, 1, 1, 0, 1, 1, 0, 1, 0, 0, 1, 1,\n",
       "        0, 0, 1, 1, 0, 1, 1, 1, 0, 0, 1, 0, 0, 0, 0, 1, 1, 1, 1, 0, 0, 0,\n",
       "        1, 1, 1, 0, 0, 0, 0, 1, 0, 0, 0, 1, 0, 0, 1, 1, 0, 1, 0, 0, 1, 1,\n",
       "        0, 1, 1, 1, 1, 0, 0, 0, 1, 1, 1, 0, 1, 0, 1, 0, 0, 1, 1, 1, 0, 0,\n",
       "        1, 0, 1, 0, 1, 0, 0, 0, 0, 1, 1, 1], dtype=int64))"
      ]
     },
     "execution_count": 2,
     "metadata": {},
     "output_type": "execute_result"
    }
   ],
   "source": [
    "# 5 November 2019\n",
    "# load moons dataset\n",
    "\n",
    "from sklearn.datasets import make_moons\n",
    "from sklearn.preprocessing import PolynomialFeatures\n",
    "\n",
    "moons = make_moons( )\n",
    "moons"
   ]
  },
  {
   "cell_type": "code",
   "execution_count": 11,
   "metadata": {},
   "outputs": [
    {
     "data": {
      "image/png": "[encoded data removed]",
      "text/plain": [
       "<Figure size 432x288 with 1 Axes>"
      ]
     },
     "metadata": {
      "needs_background": "light"
     },
     "output_type": "display_data"
    }
   ],
   "source": [
    "# extract the 'x' and 'y' values and plot the two moons\n",
    "\n",
    "import matplotlib.pyplot as plt\n",
    "\n",
    "length = len( moons[ 0 ] )\n",
    "# print( length )\n",
    "\n",
    "a, b, c, d = [ ], [ ], [ ], [ ]\n",
    "\n",
    "for i in range( length ):\n",
    "    if moons[ 1 ][ i ]  == 0:\n",
    "        a.append( moons[ 0 ][ i, ( 0 ) ] )\n",
    "        b.append( moons[ 0 ][ i, ( 1 ) ] )\n",
    "    else:\n",
    "        c.append( moons[ 0 ][ i, ( 0 ) ] )\n",
    "        d.append( moons[ 0 ][ i, ( 1 ) ] )\n",
    "\n",
    "plt.scatter( a, b, color = \"blue\" )\n",
    "plt.scatter( c, d, color = \"red\" )\n",
    "plt.show( )"
   ]
  },
  {
   "cell_type": "code",
   "execution_count": 4,
   "metadata": {},
   "outputs": [],
   "source": [
    "from sklearn.ensemble import RandomForestClassifier\n",
    "from sklearn.ensemble import VotingClassifier\n",
    "from sklearn.linear_model import LogisticRegression\n",
    "from sklearn.svm import SVC\n",
    "\n",
    "log_clf = LogisticRegression( )\n",
    "rnd_clf = RandomForestClassifier( )\n",
    "svm_clf = SVC( )"
   ]
  },
  {
   "cell_type": "code",
   "execution_count": 5,
   "metadata": {},
   "outputs": [
    {
     "name": "stderr",
     "output_type": "stream",
     "text": [
      "C:\\Users\\cl-simons\\AppData\\Local\\Continuum\\anaconda3\\lib\\site-packages\\sklearn\\linear_model\\logistic.py:432: FutureWarning: Default solver will be changed to 'lbfgs' in 0.22. Specify a solver to silence this warning.\n",
      "  FutureWarning)\n",
      "C:\\Users\\cl-simons\\AppData\\Local\\Continuum\\anaconda3\\lib\\site-packages\\sklearn\\ensemble\\forest.py:245: FutureWarning: The default value of n_estimators will change from 10 in version 0.20 to 100 in 0.22.\n",
      "  \"10 in version 0.20 to 100 in 0.22.\", FutureWarning)\n",
      "C:\\Users\\cl-simons\\AppData\\Local\\Continuum\\anaconda3\\lib\\site-packages\\sklearn\\svm\\base.py:193: FutureWarning: The default value of gamma will change from 'auto' to 'scale' in version 0.22 to account better for unscaled features. Set gamma explicitly to 'auto' or 'scale' to avoid this warning.\n",
      "  \"avoid this warning.\", FutureWarning)\n"
     ]
    },
    {
     "data": {
      "text/plain": [
       "array([0], dtype=int64)"
      ]
     },
     "execution_count": 5,
     "metadata": {},
     "output_type": "execute_result"
    }
   ],
   "source": [
    "voting_clf = VotingClassifier( \n",
    "        estimators = [ ('lr', log_clf), ( 'rf', rnd_clf ), ('svc', svm_clf ) ],\n",
    "        voting = 'hard' )\n",
    "\n",
    "x = moons[ 0 ][ :, ( 0, 1 ) ]\n",
    "y = moons[ 1 ][ : ]\n",
    "\n",
    "voting_clf.fit( x, y )\n",
    "voting_clf.predict( [ [ 0.4, 1.0 ] ] )"
   ]
  },
  {
   "cell_type": "code",
   "execution_count": 6,
   "metadata": {},
   "outputs": [
    {
     "name": "stdout",
     "output_type": "stream",
     "text": [
      "LogisticRegression 1.0\n",
      "RandomForestClassifier 1.0\n",
      "SVC 1.0\n",
      "VotingClassifier 1.0\n"
     ]
    },
    {
     "name": "stderr",
     "output_type": "stream",
     "text": [
      "C:\\Users\\cl-simons\\AppData\\Local\\Continuum\\anaconda3\\lib\\site-packages\\sklearn\\linear_model\\logistic.py:432: FutureWarning: Default solver will be changed to 'lbfgs' in 0.22. Specify a solver to silence this warning.\n",
      "  FutureWarning)\n",
      "C:\\Users\\cl-simons\\AppData\\Local\\Continuum\\anaconda3\\lib\\site-packages\\sklearn\\ensemble\\forest.py:245: FutureWarning: The default value of n_estimators will change from 10 in version 0.20 to 100 in 0.22.\n",
      "  \"10 in version 0.20 to 100 in 0.22.\", FutureWarning)\n",
      "C:\\Users\\cl-simons\\AppData\\Local\\Continuum\\anaconda3\\lib\\site-packages\\sklearn\\svm\\base.py:193: FutureWarning: The default value of gamma will change from 'auto' to 'scale' in version 0.22 to account better for unscaled features. Set gamma explicitly to 'auto' or 'scale' to avoid this warning.\n",
      "  \"avoid this warning.\", FutureWarning)\n",
      "C:\\Users\\cl-simons\\AppData\\Local\\Continuum\\anaconda3\\lib\\site-packages\\sklearn\\linear_model\\logistic.py:432: FutureWarning: Default solver will be changed to 'lbfgs' in 0.22. Specify a solver to silence this warning.\n",
      "  FutureWarning)\n",
      "C:\\Users\\cl-simons\\AppData\\Local\\Continuum\\anaconda3\\lib\\site-packages\\sklearn\\svm\\base.py:193: FutureWarning: The default value of gamma will change from 'auto' to 'scale' in version 0.22 to account better for unscaled features. Set gamma explicitly to 'auto' or 'scale' to avoid this warning.\n",
      "  \"avoid this warning.\", FutureWarning)\n"
     ]
    }
   ],
   "source": [
    "# to test the accuracy of each classifier for a single x, y value\n",
    "\n",
    "from sklearn.metrics import accuracy_score\n",
    "\n",
    "for clf in ( log_clf, rnd_clf, svm_clf, voting_clf ):\n",
    "    clf.fit( x, y )\n",
    "    y_pred = clf.predict( [ [ 0.4, 1.0 ] ] )\n",
    "    print( clf.__class__.__name__, accuracy_score( [0], y_pred ) )\n"
   ]
  },
  {
   "cell_type": "code",
   "execution_count": 7,
   "metadata": {},
   "outputs": [
    {
     "name": "stdout",
     "output_type": "stream",
     "text": [
      "LogisticRegression 1.0\n",
      "RandomForestClassifier 1.0\n",
      "SVC 1.0\n",
      "VotingClassifier 1.0\n"
     ]
    },
    {
     "name": "stderr",
     "output_type": "stream",
     "text": [
      "C:\\Users\\cl-simons\\AppData\\Local\\Continuum\\anaconda3\\lib\\site-packages\\sklearn\\linear_model\\logistic.py:432: FutureWarning: Default solver will be changed to 'lbfgs' in 0.22. Specify a solver to silence this warning.\n",
      "  FutureWarning)\n",
      "C:\\Users\\cl-simons\\AppData\\Local\\Continuum\\anaconda3\\lib\\site-packages\\sklearn\\svm\\base.py:193: FutureWarning: The default value of gamma will change from 'auto' to 'scale' in version 0.22 to account better for unscaled features. Set gamma explicitly to 'auto' or 'scale' to avoid this warning.\n",
      "  \"avoid this warning.\", FutureWarning)\n",
      "C:\\Users\\cl-simons\\AppData\\Local\\Continuum\\anaconda3\\lib\\site-packages\\sklearn\\linear_model\\logistic.py:432: FutureWarning: Default solver will be changed to 'lbfgs' in 0.22. Specify a solver to silence this warning.\n",
      "  FutureWarning)\n",
      "C:\\Users\\cl-simons\\AppData\\Local\\Continuum\\anaconda3\\lib\\site-packages\\sklearn\\svm\\base.py:193: FutureWarning: The default value of gamma will change from 'auto' to 'scale' in version 0.22 to account better for unscaled features. Set gamma explicitly to 'auto' or 'scale' to avoid this warning.\n",
      "  \"avoid this warning.\", FutureWarning)\n"
     ]
    }
   ],
   "source": [
    "# to test the accuracy of each classifier for a test set\n",
    "\n",
    "from sklearn.model_selection import train_test_split\n",
    "\n",
    "x = moons[ 0 ][ : ]\n",
    "y = moons[ 1 ][ : ]\n",
    "\n",
    "x_train, x_test, y_train, y_test = train_test_split( x, y, test_size = 0.2, random_state = 42 )\n",
    "\n",
    "for clf in ( log_clf, rnd_clf, svm_clf, voting_clf ):\n",
    "    clf.fit( x, y )\n",
    "    y_pred = clf.predict( x_test )\n",
    "    print( clf.__class__.__name__, accuracy_score( y_test, y_pred ) )\n"
   ]
  },
  {
   "cell_type": "code",
   "execution_count": 10,
   "metadata": {},
   "outputs": [],
   "source": [
    "RandomForestClassifier?"
   ]
  },
  {
   "cell_type": "code",
   "execution_count": null,
   "metadata": {},
   "outputs": [],
   "source": []
  }
 ],
 "metadata": {
  "kernelspec": {
   "display_name": "Python 3",
   "language": "python",
   "name": "python3"
  },
  "language_info": {
   "codemirror_mode": {
    "name": "ipython",
    "version": 3
   },
   "file_extension": ".py",
   "mimetype": "text/x-python",
   "name": "python",
   "nbconvert_exporter": "python",
   "pygments_lexer": "ipython3",
   "version": "3.7.4"
  }
 },
 "nbformat": 4,
 "nbformat_minor": 2
}
